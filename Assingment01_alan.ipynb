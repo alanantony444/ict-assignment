{
  "nbformat": 4,
  "nbformat_minor": 0,
  "metadata": {
    "colab": {
      "provenance": [],
      "authorship_tag": "ABX9TyNWNse/Nbe0RcstR7DadT+Y",
      "include_colab_link": true
    },
    "kernelspec": {
      "name": "python3",
      "display_name": "Python 3"
    },
    "language_info": {
      "name": "python"
    }
  },
  "cells": [
    {
      "cell_type": "markdown",
      "metadata": {
        "id": "view-in-github",
        "colab_type": "text"
      },
      "source": [
        "<a href=\"https://colab.research.google.com/github/alanantony444/ict-assignment/blob/main/Assingment01_alan.ipynb\" target=\"_parent\"><img src=\"https://colab.research.google.com/assets/colab-badge.svg\" alt=\"Open In Colab\"/></a>"
      ]
    },
    {
      "cell_type": "markdown",
      "source": [
        "question number 1"
      ],
      "metadata": {
        "id": "SS3JNN3EWQ5v"
      }
    },
    {
      "cell_type": "code",
      "execution_count": null,
      "metadata": {
        "colab": {
          "base_uri": "https://localhost:8080/"
        },
        "id": "bwRuF209VW2u",
        "outputId": "2ce57283-2f59-4409-c339-607321fb25a6"
      },
      "outputs": [
        {
          "output_type": "stream",
          "name": "stdout",
          "text": [
            "price of good 1 :45\n",
            "quantity of good 2 :3\n",
            "price of good 2 :30\n",
            "quantity of good 2:2\n",
            "195\n"
          ]
        }
      ],
      "source": [
        "a=int(input(\"price of good 1 :\"))\n",
        "b=int(input(\"quantity of good 2 :\"))\n",
        "c=int(input(\"price of good 2 :\"))\n",
        "d=int(input(\"quantity of good 2:\"))\n",
        "t=a*b+c*d\n",
        "print(t)"
      ]
    },
    {
      "cell_type": "markdown",
      "source": [
        "question 2"
      ],
      "metadata": {
        "id": "vmwr52xdZi1S"
      }
    },
    {
      "cell_type": "code",
      "source": [
        "c=int(input(\"enter temperature in celcius :\"))\n",
        "f=(c*9/5)+32\n",
        "print(f)"
      ],
      "metadata": {
        "colab": {
          "base_uri": "https://localhost:8080/"
        },
        "id": "oksQAPGrZQ7L",
        "outputId": "e15c6fc2-d368-402b-ce42-1c6b5d1117c6"
      },
      "execution_count": null,
      "outputs": [
        {
          "output_type": "stream",
          "name": "stdout",
          "text": [
            "enter temperature in celcius :30\n",
            "86.0\n"
          ]
        }
      ]
    },
    {
      "cell_type": "markdown",
      "source": [
        "question 3"
      ],
      "metadata": {
        "id": "U3whZ8aZaZqJ"
      }
    },
    {
      "cell_type": "code",
      "source": [
        "a=float(input(\"enter the first number :\"))\n",
        "n=a+(0.20*a)+(0.10*a)\n",
        "print(\"net salary:\",n)"
      ],
      "metadata": {
        "colab": {
          "base_uri": "https://localhost:8080/"
        },
        "id": "yNgN3HrqaMJA",
        "outputId": "8aaaa455-969a-413e-f481-31aa22aa78ef"
      },
      "execution_count": null,
      "outputs": [
        {
          "output_type": "stream",
          "name": "stdout",
          "text": [
            "enter the first number :20000\n",
            "net salary: 26000.0\n"
          ]
        }
      ]
    },
    {
      "cell_type": "markdown",
      "source": [
        "question 4"
      ],
      "metadata": {
        "id": "426DKjC6c4VN"
      }
    },
    {
      "cell_type": "code",
      "source": [
        "p=float(input(\"principal\"))\n",
        "r=float(input(\"rate of interest\"))\n",
        "t=float(input(\"time\"))\n",
        "si=(p*r*t)/100\n",
        "print(si)"
      ],
      "metadata": {
        "colab": {
          "base_uri": "https://localhost:8080/"
        },
        "id": "z3ZC1fLecvZu",
        "outputId": "f4467f8a-c1e1-4882-a03b-2d66a679ac65"
      },
      "execution_count": null,
      "outputs": [
        {
          "output_type": "stream",
          "name": "stdout",
          "text": [
            "principal10000\n",
            "rate of interest5\n",
            "time2\n",
            "1000.0\n"
          ]
        }
      ]
    },
    {
      "cell_type": "markdown",
      "source": [
        "question 5"
      ],
      "metadata": {
        "id": "dc_azBkJiSvO"
      }
    },
    {
      "cell_type": "code",
      "source": [
        "a=float(input(\"enter the minutes\"))\n",
        "h=a//60\n",
        "m=a%60\n",
        "print(h,m)"
      ],
      "metadata": {
        "colab": {
          "base_uri": "https://localhost:8080/"
        },
        "id": "DpwUL3DIcnre",
        "outputId": "d4e71f4f-4f26-4735-ce47-b0b9c48e5fb0"
      },
      "execution_count": null,
      "outputs": [
        {
          "output_type": "stream",
          "name": "stdout",
          "text": [
            "enter the minutes130\n",
            "2.0 10.0\n"
          ]
        }
      ]
    },
    {
      "cell_type": "markdown",
      "source": [
        "question 6"
      ],
      "metadata": {
        "id": "v-NOrSOriN0P"
      }
    },
    {
      "cell_type": "code",
      "source": [
        "a=float(input(\"enter the weight\"))\n",
        "b=float(input(\"enter the height\"))\n",
        "c=a/(b*b)\n",
        "print(c)"
      ],
      "metadata": {
        "colab": {
          "base_uri": "https://localhost:8080/"
        },
        "id": "hJEUDQJchCtQ",
        "outputId": "874614d5-30af-49f4-8743-2eafdc4654eb"
      },
      "execution_count": null,
      "outputs": [
        {
          "output_type": "stream",
          "name": "stdout",
          "text": [
            "enter the weight60\n",
            "enter the height1.65\n",
            "22.03856749311295\n"
          ]
        }
      ]
    },
    {
      "cell_type": "markdown",
      "source": [
        "question 7"
      ],
      "metadata": {
        "id": "arxVwARpi4jW"
      }
    },
    {
      "cell_type": "code",
      "source": [
        "a=float(input(\"Enter the price\"))\n",
        "b=float(input(\"Enter the discount\"))\n",
        "c=a-(a*b)/100\n",
        "print(c)"
      ],
      "metadata": {
        "id": "HEHZEdmuiNAn",
        "colab": {
          "base_uri": "https://localhost:8080/"
        },
        "outputId": "748c8ee1-9acf-41a5-c858-46464483dd4d"
      },
      "execution_count": 1,
      "outputs": [
        {
          "output_type": "stream",
          "name": "stdout",
          "text": [
            "Enter the price1200\n",
            "Enter the discount10\n",
            "1080.0\n"
          ]
        }
      ]
    },
    {
      "cell_type": "markdown",
      "source": [
        "question 8"
      ],
      "metadata": {
        "id": "cSm6z3oq46-v"
      }
    },
    {
      "cell_type": "code",
      "source": [
        "a=float(input(\"Enter side a:\"))\n",
        "b=float(input(\"Enter side b:\"))\n",
        "c=float(input(\"Enter side c:\"))\n",
        "s=(a+b+c)/2\n",
        "area=(s*(s-a)*(s-b)*(s-c))**0.5\n",
        "print(area)"
      ],
      "metadata": {
        "colab": {
          "base_uri": "https://localhost:8080/"
        },
        "id": "db4ofB7h2ld6",
        "outputId": "054843d3-cc74-46a6-90d9-850a6cffbc88"
      },
      "execution_count": 4,
      "outputs": [
        {
          "output_type": "stream",
          "name": "stdout",
          "text": [
            "Enter side a:5\n",
            "Enter side b:6\n",
            "Enter side c:7\n",
            "14.696938456699069\n"
          ]
        }
      ]
    },
    {
      "cell_type": "markdown",
      "source": [
        "question 9"
      ],
      "metadata": {
        "id": "HJfEOH4B4-Je"
      }
    },
    {
      "cell_type": "code",
      "source": [
        "a=float(input(\"Enter wall length\"))\n",
        "b=float(input(\"Enter wall height\"))\n",
        "t=a*b\n",
        "w=2*(1.5*1.2)\n",
        "p=t-w\n",
        "print(\"total area painted\",p)\n",
        "c=p*25\n",
        "print(\"total cost\",c)"
      ],
      "metadata": {
        "colab": {
          "base_uri": "https://localhost:8080/"
        },
        "id": "bLFIRGDI3w_3",
        "outputId": "9b4c302e-e448-4dca-ae0f-f88bf296ca31"
      },
      "execution_count": 23,
      "outputs": [
        {
          "output_type": "stream",
          "name": "stdout",
          "text": [
            "Enter wall length8\n",
            "Enter wall height12\n",
            "total area painted 92.4\n",
            "total cost 2310.0\n"
          ]
        }
      ]
    },
    {
      "cell_type": "markdown",
      "source": [
        "Question 10"
      ],
      "metadata": {
        "id": "7iRRwGlo9T6s"
      }
    },
    {
      "cell_type": "code",
      "source": [
        "a=float(input(\"Enter number of units consumed\"))\n",
        "b=(a*5.2)+100\n",
        "print(b)"
      ],
      "metadata": {
        "colab": {
          "base_uri": "https://localhost:8080/"
        },
        "id": "L8wd8w8k59LD",
        "outputId": "78b2afc8-d901-4d09-c007-97b93284fcac"
      },
      "execution_count": 17,
      "outputs": [
        {
          "output_type": "stream",
          "name": "stdout",
          "text": [
            "Enter number of units consumed250\n",
            "1400.0\n"
          ]
        }
      ]
    },
    {
      "cell_type": "code",
      "source": [],
      "metadata": {
        "id": "qoRbfeOO-MRm"
      },
      "execution_count": null,
      "outputs": []
    }
  ]
}