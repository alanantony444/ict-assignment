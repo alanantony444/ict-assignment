{
  "cells": [
    {
      "cell_type": "markdown",
      "metadata": {
        "id": "view-in-github",
        "colab_type": "text"
      },
      "source": [
        "<a href=\"https://colab.research.google.com/github/alanantony444/ict-assignment/blob/main/assingment2_alan.ipynb\" target=\"_parent\"><img src=\"https://colab.research.google.com/assets/colab-badge.svg\" alt=\"Open In Colab\"/></a>"
      ]
    },
    {
      "cell_type": "markdown",
      "source": [
        "Question Number 1"
      ],
      "metadata": {
        "id": "a2v0vaEbAvBH"
      }
    },
    {
      "cell_type": "code",
      "source": [
        "'''FizzBuzz: For a given range of numbers (e.g., 1 to 100), print \"Fizz\" if the number is\n",
        "divisible by 3, \"Buzz\" if it's divisible by 5, and \"FizzBuzz\" if it's divisible by both. Otherwise,\n",
        "print the number itself.'''"
      ],
      "metadata": {
        "colab": {
          "base_uri": "https://localhost:8080/",
          "height": 53
        },
        "id": "fALNz7omAuMf",
        "outputId": "17de0a5f-eb2d-4fc2-bb77-e045d5e71f26"
      },
      "execution_count": 1,
      "outputs": [
        {
          "output_type": "execute_result",
          "data": {
            "text/plain": [
              "'FizzBuzz: For a given range of numbers (e.g., 1 to 100), print \"Fizz\" if the number is\\ndivisible by 3, \"Buzz\" if it\\'s divisible by 5, and \"FizzBuzz\" if it\\'s divisible by both. Otherwise,\\nprint the number itself.'"
            ],
            "application/vnd.google.colaboratory.intrinsic+json": {
              "type": "string"
            }
          },
          "metadata": {},
          "execution_count": 1
        }
      ]
    },
    {
      "cell_type": "code",
      "source": [
        "n=int(input(\"enter a number:\"))\n",
        "if n%3==0 and n%5==0:\n",
        "  print(\"fizzbuzz\")\n",
        "elif n%3==0:\n",
        "  print(\"fizz\")\n",
        "elif n%5==0:\n",
        "  print(\"buzz\")\n",
        "else:\n",
        "  print(n)"
      ],
      "metadata": {
        "colab": {
          "base_uri": "https://localhost:8080/"
        },
        "id": "_SqS20ogA4tg",
        "outputId": "d6153a14-9264-4bd1-f75f-417d270fd714"
      },
      "execution_count": 28,
      "outputs": [
        {
          "output_type": "stream",
          "name": "stdout",
          "text": [
            "enter a number:15\n",
            "fizzbuzz\n"
          ]
        }
      ]
    },
    {
      "cell_type": "markdown",
      "source": [
        "Question 2"
      ],
      "metadata": {
        "id": "bVPCf5L5Cx5d"
      }
    },
    {
      "cell_type": "code",
      "source": [
        "n=int(input(\"enter the number of unit consumed : \"))\n",
        "totalamount =0\n",
        "\n",
        "if n<=100:\n",
        "    totalamount =n*5\n",
        "elif n<= 200:\n",
        "    totalamount =(100*5)+(n-100) * 7\n",
        "else:\n",
        "    totalamount = (100*5)+(100*7)+((n-200)*10)\n",
        "print(f\"Total Bill amount :{totalamount}\")"
      ],
      "metadata": {
        "colab": {
          "base_uri": "https://localhost:8080/"
        },
        "id": "ykWBYX8NHD8I",
        "outputId": "e4a80cfd-b26f-46d9-ebf9-1a1d9345a04f"
      },
      "execution_count": 19,
      "outputs": [
        {
          "output_type": "stream",
          "name": "stdout",
          "text": [
            "enter the number of unit consumed : 245\n",
            "Total Bill amount :1650\n"
          ]
        }
      ]
    },
    {
      "cell_type": "markdown",
      "source": [
        "Question 3"
      ],
      "metadata": {
        "id": "0fHd1dhVHf9X"
      }
    },
    {
      "cell_type": "code",
      "source": [
        "for i in range(1,6):\n",
        "  print(\"*\"*i)"
      ],
      "metadata": {
        "colab": {
          "base_uri": "https://localhost:8080/"
        },
        "id": "muGzWqKzHktI",
        "outputId": "77ef66b6-3ccc-46f2-f5fd-ff1c8760b8b1"
      },
      "execution_count": 20,
      "outputs": [
        {
          "output_type": "stream",
          "name": "stdout",
          "text": [
            "*\n",
            "**\n",
            "***\n",
            "****\n",
            "*****\n"
          ]
        }
      ]
    },
    {
      "cell_type": "markdown",
      "source": [
        "Question 4"
      ],
      "metadata": {
        "id": "lulcYcQbIrwe"
      }
    },
    {
      "cell_type": "code",
      "source": [
        "pal=str(input(\"Enter num or string to be checked:\"))\n",
        "rev_pal = pal[::-1]\n",
        "\n",
        "if rev_pal == pal:\n",
        "  print(pal,\"palindrome\")\n",
        "else:\n",
        "  print(pal,\"not palindrome\")"
      ],
      "metadata": {
        "colab": {
          "base_uri": "https://localhost:8080/"
        },
        "id": "f8ly8JSgIJm2",
        "outputId": "a1e18022-27c2-4655-9723-e4c5965326a2"
      },
      "execution_count": 27,
      "outputs": [
        {
          "output_type": "stream",
          "name": "stdout",
          "text": [
            "Enter num or string to be checked:121\n",
            "121 palindrome\n"
          ]
        }
      ]
    }
  ],
  "metadata": {
    "colab": {
      "toc_visible": true,
      "provenance": [],
      "include_colab_link": true
    },
    "kernelspec": {
      "display_name": "Python 3",
      "name": "python3"
    }
  },
  "nbformat": 4,
  "nbformat_minor": 0
}